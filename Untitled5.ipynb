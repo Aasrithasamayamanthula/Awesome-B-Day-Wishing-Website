{
  "nbformat": 4,
  "nbformat_minor": 0,
  "metadata": {
    "colab": {
      "provenance": [],
      "authorship_tag": "ABX9TyPrtIVmrzur+gEfBucrcjlk",
      "include_colab_link": true
    },
    "kernelspec": {
      "name": "python3",
      "display_name": "Python 3"
    },
    "language_info": {
      "name": "python"
    }
  },
  "cells": [
    {
      "cell_type": "markdown",
      "metadata": {
        "id": "view-in-github",
        "colab_type": "text"
      },
      "source": [
        "<a href=\"https://colab.research.google.com/github/Aasrithasamayamanthula/Awesome-B-Day-Wishing-Website/blob/main/Untitled5.ipynb\" target=\"_parent\"><img src=\"https://colab.research.google.com/assets/colab-badge.svg\" alt=\"Open In Colab\"/></a>"
      ]
    },
    {
      "cell_type": "code",
      "execution_count": null,
      "metadata": {
        "colab": {
          "base_uri": "https://localhost:8080/"
        },
        "id": "H7-wlJmq22Be",
        "outputId": "7797fe31-6dc9-468b-f786-8aa881d7f990"
      },
      "outputs": [
        {
          "output_type": "stream",
          "name": "stdout",
          "text": [
            "enter a number:4\n",
            "thursday\n"
          ]
        }
      ],
      "source": [
        "n = int(input(\"enter a number:\"))\n",
        "if(n==1):\n",
        "    print(\"monday\")\n",
        "elif(n==2):\n",
        "    print(\"tuesday\")\n",
        "elif(n==3):\n",
        "    print(\"wednesday\")\n",
        "elif(n==4):\n",
        "    print(\"thursday\")\n",
        "elif(n==5):\n",
        "    print(\"friday\")\n",
        "elif(n==6):\n",
        "    print(\"sturtaday\")\n",
        "else:\n",
        "    print(\"sunday\")\n"
      ]
    },
    {
      "cell_type": "markdown",
      "source": [],
      "metadata": {
        "id": "Dd4g25vr25x3"
      }
    },
    {
      "cell_type": "code",
      "source": [
        "#data types\n",
        "a = int(input(\"enter a number:\"))\n",
        "print(a)\n",
        "print(type(a))\n"
      ],
      "metadata": {
        "colab": {
          "base_uri": "https://localhost:8080/"
        },
        "id": "giNVPztF26U-",
        "outputId": "0c55dccf-626c-42ce-dc4f-33c2edf0115c"
      },
      "execution_count": null,
      "outputs": [
        {
          "output_type": "stream",
          "name": "stdout",
          "text": [
            "enter a number:4\n",
            "4\n",
            "<class 'int'>\n"
          ]
        }
      ]
    },
    {
      "cell_type": "code",
      "source": [
        "a = float(input(\"enter:\"))\n",
        "print(a)\n",
        "print(type(a))"
      ],
      "metadata": {
        "colab": {
          "base_uri": "https://localhost:8080/"
        },
        "id": "HtPFTIMs3lYi",
        "outputId": "4946e997-52dc-49b0-955f-5cddc3e9b331"
      },
      "execution_count": null,
      "outputs": [
        {
          "output_type": "stream",
          "name": "stdout",
          "text": [
            "enter:2.9\n",
            "2.9\n",
            "<class 'float'>\n"
          ]
        }
      ]
    },
    {
      "cell_type": "code",
      "source": [
        "year = int(input(\"enter a year:\"))\n",
        "if(year%4==0 and year%100!=0) or (year%400==0):\n",
        "  print(\"leap year\")\n",
        "else:\n",
        "  print(\"non leap year\")\n"
      ],
      "metadata": {
        "colab": {
          "base_uri": "https://localhost:8080/"
        },
        "id": "yyXO3q8RiSlX",
        "outputId": "76f5cdc6-5c85-44c8-f1c8-290304a0f555"
      },
      "execution_count": null,
      "outputs": [
        {
          "output_type": "stream",
          "name": "stdout",
          "text": [
            "enter a year:2024\n",
            "leap year\n"
          ]
        }
      ]
    },
    {
      "cell_type": "code",
      "source": [
        "a=5\n",
        "b=3\n",
        "print(a+b)"
      ],
      "metadata": {
        "colab": {
          "base_uri": "https://localhost:8080/"
        },
        "id": "5P67j-HVjYEX",
        "outputId": "292d41d3-4593-4311-e0e4-0f3310b6fa06"
      },
      "execution_count": null,
      "outputs": [
        {
          "output_type": "stream",
          "name": "stdout",
          "text": [
            "8\n"
          ]
        }
      ]
    },
    {
      "cell_type": "code",
      "source": [
        "n=20\n",
        "for i in range(0,20):\n",
        "  if(n%i==0):\n",
        "    print(\"not prime number\")\n",
        "    break\n",
        "  else:\n",
        "    print(\"prime number\")\n"
      ],
      "metadata": {
        "colab": {
          "base_uri": "https://localhost:8080/"
        },
        "id": "xYLMZahlkbe7",
        "outputId": "9d00cccf-7a6b-47b2-d020-6b9a1b637fc8"
      },
      "execution_count": null,
      "outputs": [
        {
          "output_type": "stream",
          "name": "stdout",
          "text": [
            "not prime number\n"
          ]
        }
      ]
    },
    {
      "cell_type": "code",
      "source": [
        "n = 13\n",
        "for i in range (2,13):\n",
        "  if (n%i==0):\n",
        "   print(\"not a prme number\")\n",
        "   break\n",
        "else:\n",
        "  print(\"prime number\")"
      ],
      "metadata": {
        "colab": {
          "base_uri": "https://localhost:8080/"
        },
        "id": "E8NwWqlnmhOQ",
        "outputId": "69a70124-6ad0-40c0-cb4e-c7b7b1910a91"
      },
      "execution_count": null,
      "outputs": [
        {
          "output_type": "stream",
          "name": "stdout",
          "text": [
            "prime number\n"
          ]
        }
      ]
    },
    {
      "cell_type": "code",
      "source": [
        "n = int(input(\"enter a number:\"))\n",
        "a = n\n",
        "if(a%n==0):\n",
        "  print(\"prime umber\")\n",
        "else:\n",
        "  print(\"not prime\")"
      ],
      "metadata": {
        "colab": {
          "base_uri": "https://localhost:8080/"
        },
        "id": "qIOkr1bVm96a",
        "outputId": "ebe0cb0f-d64f-4a0f-e488-312cadd6d134"
      },
      "execution_count": null,
      "outputs": [
        {
          "output_type": "stream",
          "name": "stdout",
          "text": [
            "enter a number:20\n",
            "prime umber\n"
          ]
        }
      ]
    },
    {
      "cell_type": "code",
      "source": [
        "for i in range(1,100):\n",
        "  if(i%8==0):\n",
        "    print(i)"
      ],
      "metadata": {
        "colab": {
          "base_uri": "https://localhost:8080/"
        },
        "id": "9Uc60leopp33",
        "outputId": "e11cf1b1-6a23-4453-e0c4-287223a538fe"
      },
      "execution_count": null,
      "outputs": [
        {
          "output_type": "stream",
          "name": "stdout",
          "text": [
            "8\n",
            "16\n",
            "24\n",
            "32\n",
            "40\n",
            "48\n",
            "56\n",
            "64\n",
            "72\n",
            "80\n",
            "88\n",
            "96\n"
          ]
        }
      ]
    },
    {
      "cell_type": "code",
      "source": [
        " s = 0\n",
        " n = 1234\n",
        " while n > 0:\n",
        "  r = n%10\n",
        "  s = s*10+r\n",
        "  n = n//10\n",
        " print(s)"
      ],
      "metadata": {
        "id": "kZFAHWtup43G"
      },
      "execution_count": null,
      "outputs": []
    },
    {
      "cell_type": "code",
      "source": [
        " s = 0\n",
        " n = 1234\n",
        " while n > 0:\n",
        "  r = n%10\n",
        "  s = s*10+r\n",
        "  n = n//10\n",
        " print(s)"
      ],
      "metadata": {
        "id": "45mIA2oryVbm"
      },
      "execution_count": null,
      "outputs": []
    },
    {
      "cell_type": "code",
      "source": [],
      "metadata": {
        "id": "TG3zXEGbyXGK"
      },
      "execution_count": null,
      "outputs": []
    }
  ]
}